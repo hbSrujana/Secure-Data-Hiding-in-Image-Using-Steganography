{
 "cells": [
  {
   "cell_type": "code",
   "execution_count": 5,
   "metadata": {},
   "outputs": [
    {
     "name": "stdout",
     "output_type": "stream",
     "text": [
      "OpenCV version: 4.11.0\n"
     ]
    }
   ],
   "source": [
    "import cv2\n",
    "print(\"OpenCV version:\", cv2.__version__)\n"
   ]
  },
  {
   "cell_type": "code",
   "execution_count": 6,
   "metadata": {},
   "outputs": [
    {
     "name": "stdout",
     "output_type": "stream",
     "text": [
      "os module is available.\n",
      "string module is available.\n"
     ]
    }
   ],
   "source": [
    "import os\n",
    "print(\"os module is available.\")\n",
    "import string\n",
    "print(\"string module is available.\")"
   ]
  },
  {
   "cell_type": "code",
   "execution_count": 8,
   "metadata": {},
   "outputs": [
    {
     "name": "stdout",
     "output_type": "stream",
     "text": [
      "Decryption message: yes I am Srujana\n"
     ]
    }
   ],
   "source": [
    "import cv2\n",
    "import os\n",
    "import string\n",
    "\n",
    "img = cv2.imread(r\"C:\\Users\\hbsru\\OneDrive\\Pictures\\Documents\\personal\\projects\\Cyber Security\\image1.png\") # Replace with the correct image path#image\n",
    "\n",
    "msg = input(\"Enter secret message:\")\n",
    "password = input(\"Enter a passcode:\")\n",
    "\n",
    "d = {}\n",
    "c = {}\n",
    "\n",
    "for i in range(255):\n",
    "    d[chr(i)] = i\n",
    "    c[i] = chr(i)\n",
    "\n",
    "m = 0\n",
    "n = 0\n",
    "z = 0\n",
    "\n",
    "for i in range(len(msg)):\n",
    "    img[n, m, z] = d[msg[i]]\n",
    "    n = n + 1\n",
    "    m = m + 1\n",
    "    z = (z + 1) % 3\n",
    "\n",
    "cv2.imwrite(\"encryptedImage.jpg\", img)\n",
    "os.system(\"start encryptedImage.jpg\")  # Use 'start' to open the image on Windows\n",
    "\n",
    "message = \"\"\n",
    "n = 0\n",
    "m = 0\n",
    "z = 0\n",
    "\n",
    "pas = input(\"Enter passcode for Decryption\")\n",
    "if password == pas:\n",
    "    for i in range(len(msg)):\n",
    "        message = message + c[img[n, m, z]]\n",
    "        n = n + 1\n",
    "        m = m + 1\n",
    "        z = (z + 1) % 3\n",
    "    print(\"Decryption message:\", message)\n",
    "else:\n",
    "    print(\"YOU ARE NOT auth\")"
   ]
  }
 ],
 "metadata": {
  "kernelspec": {
   "display_name": "base",
   "language": "python",
   "name": "python3"
  },
  "language_info": {
   "codemirror_mode": {
    "name": "ipython",
    "version": 3
   },
   "file_extension": ".py",
   "mimetype": "text/x-python",
   "name": "python",
   "nbconvert_exporter": "python",
   "pygments_lexer": "ipython3",
   "version": "3.12.4"
  }
 },
 "nbformat": 4,
 "nbformat_minor": 2
}
